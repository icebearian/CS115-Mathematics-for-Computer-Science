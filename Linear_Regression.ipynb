{
  "nbformat": 4,
  "nbformat_minor": 0,
  "metadata": {
    "colab": {
      "name": "Linear_Regression.ipynb",
      "provenance": [],
      "authorship_tag": "ABX9TyOW6VMcpjvWkf+/f6zWKfcv",
      "include_colab_link": true
    },
    "kernelspec": {
      "name": "python3",
      "display_name": "Python 3"
    }
  },
  "cells": [
    {
      "cell_type": "markdown",
      "metadata": {
        "id": "view-in-github",
        "colab_type": "text"
      },
      "source": [
        "<a href=\"https://colab.research.google.com/github/icebearian/CS115-Mathematics-for-Computer-Science/blob/master/Linear_Regression.ipynb\" target=\"_parent\"><img src=\"https://colab.research.google.com/assets/colab-badge.svg\" alt=\"Open In Colab\"/></a>"
      ]
    },
    {
      "cell_type": "markdown",
      "metadata": {
        "id": "Iw7Hr6k1r9zG"
      },
      "source": [
        "# Mô hình hồi quy tuyến tính\n",
        "\n",
        "- Dự đoán lương theo số năm :\n",
        "  - Tạo bộ dữ liệu (số năm, lương) : 80% -training, 20% - test.\n",
        "  - Huấn luyện mô hình hồi quy tuyến tính.\n",
        "  - Sử dụng mô hình để dự đoán lương.\n"
      ]
    },
    {
      "cell_type": "code",
      "metadata": {
        "id": "aUUzHuUxrkGL"
      },
      "source": [
        "import matplotlib.pyplot as plt\n",
        "import numpy as np\n",
        "from sklearn import linear_model\n",
        "import pandas as pd"
      ],
      "execution_count": 40,
      "outputs": []
    },
    {
      "cell_type": "code",
      "metadata": {
        "id": "otZMhoKftF3o",
        "outputId": "22627e6c-3d48-4273-f516-cf8e70e894c9",
        "colab": {
          "base_uri": "https://localhost:8080/",
          "height": 296
        }
      },
      "source": [
        "dataset = np.array([[1.1,39343],\n",
        "                   [1.3,46205],\n",
        "                   [1.5,37731],\n",
        "                   [2,43525],\n",
        "                   [2.2,39891],\n",
        "                   [2.9,56642],\n",
        "                   [3,60150],\n",
        "                   [3.2,54445],\n",
        "                   [3.2,64445],\n",
        "                   [3.7,57189],\n",
        "                   [3.9,63218],\n",
        "                   [4,55794],\n",
        "                   [4,56957],\n",
        "                   [4.1,57081],\n",
        "                   [4.5,61111],\n",
        "                   [4.9,67938],\n",
        "                   [5.1,66029],\n",
        "                   [5.3,83088],\n",
        "                   [5.9,81363],\n",
        "                   [6,93940],\n",
        "                   [6.8,91738],\n",
        "                   [7.1,98273],\n",
        "                   [7.9,101302],\n",
        "                   [8.2,113812],\n",
        "                   [8.7,109431],\n",
        "                   [9,105582],\n",
        "                   [9.5,116969],\n",
        "                   [9.6,112635],\n",
        "                   [10.3,122391],\n",
        "                   [10.5,121872]])\n",
        "\n",
        "train_data = dataset[:-6]\n",
        "test_data = dataset[-6:]\n",
        "\n",
        "year = train_data[:,0]\n",
        "salary = train_data[:,1]\n",
        "\n",
        "plt.xlabel(\"Số năm\")\n",
        "plt.ylabel(\"Lương ($)\")\n",
        "plt.scatter(year,salary,color= 'blue')"
      ],
      "execution_count": 41,
      "outputs": [
        {
          "output_type": "execute_result",
          "data": {
            "text/plain": [
              "<matplotlib.collections.PathCollection at 0x7f78d7f29048>"
            ]
          },
          "metadata": {
            "tags": []
          },
          "execution_count": 41
        },
        {
          "output_type": "display_data",
          "data": {
            "image/png": "[encoded data removed]",
            "text/plain": [
              "<Figure size 432x288 with 1 Axes>"
            ]
          },
          "metadata": {
            "tags": [],
            "needs_background": "light"
          }
        }
      ]
    },
    {
      "cell_type": "code",
      "metadata": {
        "id": "JjKPF3m8vl7Y"
      },
      "source": [
        "regr = linear_model.LinearRegression()"
      ],
      "execution_count": 42,
      "outputs": []
    },
    {
      "cell_type": "code",
      "metadata": {
        "id": "X4GqH1qevr0E",
        "outputId": "36ae4bc2-eed4-480d-876a-918801668146",
        "colab": {
          "base_uri": "https://localhost:8080/",
          "height": 34
        }
      },
      "source": [
        "regr.fit(year.reshape(-1,1),salary)"
      ],
      "execution_count": 43,
      "outputs": [
        {
          "output_type": "execute_result",
          "data": {
            "text/plain": [
              "LinearRegression(copy_X=True, fit_intercept=True, n_jobs=None, normalize=False)"
            ]
          },
          "metadata": {
            "tags": []
          },
          "execution_count": 43
        }
      ]
    },
    {
      "cell_type": "code",
      "metadata": {
        "id": "o7Awux4OwThV",
        "outputId": "d4090795-c91d-4ce6-b340-2ef391d7a61a",
        "colab": {
          "base_uri": "https://localhost:8080/",
          "height": 296
        }
      },
      "source": [
        "plt.xlabel(\"Số năm\")\n",
        "plt.ylabel(\"Lương ($)\")\n",
        "plt.scatter(year,salary,color= 'blue')\n",
        "plt.plot(year,regr.predict(year.reshape(-1,1)),color='red')"
      ],
      "execution_count": 44,
      "outputs": [
        {
          "output_type": "execute_result",
          "data": {
            "text/plain": [
              "[<matplotlib.lines.Line2D at 0x7f78d7f7e6a0>]"
            ]
          },
          "metadata": {
            "tags": []
          },
          "execution_count": 44
        },
        {
          "output_type": "display_data",
          "data": {
            "image/png": "[encoded data removed]",
            "text/plain": [
              "<Figure size 432x288 with 1 Axes>"
            ]
          },
          "metadata": {
            "tags": [],
            "needs_background": "light"
          }
        }
      ]
    },
    {
      "cell_type": "code",
      "metadata": {
        "id": "ujsYhOwLwk38",
        "outputId": "c29f1e6f-e5e4-4af4-95e3-ac19e8096c06",
        "colab": {
          "base_uri": "https://localhost:8080/",
          "height": 235
        }
      },
      "source": [
        "data = []\n",
        "for i in test_data:\n",
        "  data_2  = {'year': i[0],\n",
        "          'salary':i[1],\n",
        "          'predict':regr.predict([[i[0]]])}\n",
        "  data.append(data_2)\n",
        "x = pd.DataFrame(data)\n",
        "x\n",
        "\n"
      ],
      "execution_count": 45,
      "outputs": [
        {
          "output_type": "execute_result",
          "data": {
            "text/html": [
              "<div>\n",
              "<style scoped>\n",
              "    .dataframe tbody tr th:only-of-type {\n",
              "        vertical-align: middle;\n",
              "    }\n",
              "\n",
              "    .dataframe tbody tr th {\n",
              "        vertical-align: top;\n",
              "    }\n",
              "\n",
              "    .dataframe thead th {\n",
              "        text-align: right;\n",
              "    }\n",
              "</style>\n",
              "<table border=\"1\" class=\"dataframe\">\n",
              "  <thead>\n",
              "    <tr style=\"text-align: right;\">\n",
              "      <th></th>\n",
              "      <th>year</th>\n",
              "      <th>salary</th>\n",
              "      <th>predict</th>\n",
              "    </tr>\n",
              "  </thead>\n",
              "  <tbody>\n",
              "    <tr>\n",
              "      <th>0</th>\n",
              "      <td>8.7</td>\n",
              "      <td>109431.0</td>\n",
              "      <td>[111119.08832990796]</td>\n",
              "    </tr>\n",
              "    <tr>\n",
              "      <th>1</th>\n",
              "      <td>9.0</td>\n",
              "      <td>105582.0</td>\n",
              "      <td>[114134.92418014476]</td>\n",
              "    </tr>\n",
              "    <tr>\n",
              "      <th>2</th>\n",
              "      <td>9.5</td>\n",
              "      <td>116969.0</td>\n",
              "      <td>[119161.31726387276]</td>\n",
              "    </tr>\n",
              "    <tr>\n",
              "      <th>3</th>\n",
              "      <td>9.6</td>\n",
              "      <td>112635.0</td>\n",
              "      <td>[120166.59588061835]</td>\n",
              "    </tr>\n",
              "    <tr>\n",
              "      <th>4</th>\n",
              "      <td>10.3</td>\n",
              "      <td>122391.0</td>\n",
              "      <td>[127203.54619783755]</td>\n",
              "    </tr>\n",
              "    <tr>\n",
              "      <th>5</th>\n",
              "      <td>10.5</td>\n",
              "      <td>121872.0</td>\n",
              "      <td>[129214.10343132875]</td>\n",
              "    </tr>\n",
              "  </tbody>\n",
              "</table>\n",
              "</div>"
            ],
            "text/plain": [
              "   year    salary               predict\n",
              "0   8.7  109431.0  [111119.08832990796]\n",
              "1   9.0  105582.0  [114134.92418014476]\n",
              "2   9.5  116969.0  [119161.31726387276]\n",
              "3   9.6  112635.0  [120166.59588061835]\n",
              "4  10.3  122391.0  [127203.54619783755]\n",
              "5  10.5  121872.0  [129214.10343132875]"
            ]
          },
          "metadata": {
            "tags": []
          },
          "execution_count": 45
        }
      ]
    }
  ]
}