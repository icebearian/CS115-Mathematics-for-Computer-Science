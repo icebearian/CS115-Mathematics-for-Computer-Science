{
  "nbformat": 4,
  "nbformat_minor": 0,
  "metadata": {
    "colab": {
      "name": "SVM.ipynb",
      "provenance": [],
      "authorship_tag": "ABX9TyPuHOEPBVSLiglJ+ZuIzjlM",
      "include_colab_link": true
    },
    "kernelspec": {
      "name": "python3",
      "display_name": "Python 3"
    }
  },
  "cells": [
    {
      "cell_type": "markdown",
      "metadata": {
        "id": "view-in-github",
        "colab_type": "text"
      },
      "source": [
        "<a href=\"https://colab.research.google.com/github/icebearian/CS115-Mathematics-for-Computer-Science/blob/master/SVM.ipynb\" target=\"_parent\"><img src=\"https://colab.research.google.com/assets/colab-badge.svg\" alt=\"Open In Colab\"/></a>"
      ]
    },
    {
      "cell_type": "markdown",
      "metadata": {
        "id": "A-LpQy4atz8v"
      },
      "source": [
        "**Tập dữ liệu:** Social Network Ads.<br>\r\n",
        "**Mô tả dữ liệu:** Thông tin khách hàng và cho biết khách hàng có mua hàng hay không.<br>\r\n",
        "**Thuộc tính:**\r\n",
        "+ **UserID**: Mã số định danh của người dùng.\r\n",
        "+ **Gender**: Giới tính của người dùng.\r\n",
        "+ **Age**: Độ tuổi người dùng.\r\n",
        "+ **Estimated Salary**: Mức lương ước đoán của người dùng.\r\n",
        "+ **Purchased**: Là một trong hai số 0 và 1. Số 0 cho biết khách\r\n",
        "hàng không mua hàng và số 1 cho biết khách hàng có mua\r\n",
        "hàng"
      ]
    },
    {
      "cell_type": "code",
      "metadata": {
        "id": "_ujHGk3y-cBx"
      },
      "source": [
        "import numpy as np\r\n",
        "import matplotlib.pyplot as plt\r\n",
        "import pandas as pd"
      ],
      "execution_count": 15,
      "outputs": []
    },
    {
      "cell_type": "code",
      "metadata": {
        "id": "5YW60NZuunwA",
        "outputId": "2967a8f5-b242-4d6f-8209-511546b075c7",
        "colab": {
          "base_uri": "https://localhost:8080/",
          "height": 204
        }
      },
      "source": [
        "dataset = pd.read_csv('Social_Network_Ads.csv')\r\n",
        "dataset.head()"
      ],
      "execution_count": 16,
      "outputs": [
        {
          "output_type": "execute_result",
          "data": {
            "text/html": [
              "<div>\n",
              "<style scoped>\n",
              "    .dataframe tbody tr th:only-of-type {\n",
              "        vertical-align: middle;\n",
              "    }\n",
              "\n",
              "    .dataframe tbody tr th {\n",
              "        vertical-align: top;\n",
              "    }\n",
              "\n",
              "    .dataframe thead th {\n",
              "        text-align: right;\n",
              "    }\n",
              "</style>\n",
              "<table border=\"1\" class=\"dataframe\">\n",
              "  <thead>\n",
              "    <tr style=\"text-align: right;\">\n",
              "      <th></th>\n",
              "      <th>User ID</th>\n",
              "      <th>Gender</th>\n",
              "      <th>Age</th>\n",
              "      <th>EstimatedSalary</th>\n",
              "      <th>Purchased</th>\n",
              "    </tr>\n",
              "  </thead>\n",
              "  <tbody>\n",
              "    <tr>\n",
              "      <th>0</th>\n",
              "      <td>15624510</td>\n",
              "      <td>Male</td>\n",
              "      <td>19</td>\n",
              "      <td>19000</td>\n",
              "      <td>0</td>\n",
              "    </tr>\n",
              "    <tr>\n",
              "      <th>1</th>\n",
              "      <td>15810944</td>\n",
              "      <td>Male</td>\n",
              "      <td>35</td>\n",
              "      <td>20000</td>\n",
              "      <td>0</td>\n",
              "    </tr>\n",
              "    <tr>\n",
              "      <th>2</th>\n",
              "      <td>15668575</td>\n",
              "      <td>Female</td>\n",
              "      <td>26</td>\n",
              "      <td>43000</td>\n",
              "      <td>0</td>\n",
              "    </tr>\n",
              "    <tr>\n",
              "      <th>3</th>\n",
              "      <td>15603246</td>\n",
              "      <td>Female</td>\n",
              "      <td>27</td>\n",
              "      <td>57000</td>\n",
              "      <td>0</td>\n",
              "    </tr>\n",
              "    <tr>\n",
              "      <th>4</th>\n",
              "      <td>15804002</td>\n",
              "      <td>Male</td>\n",
              "      <td>19</td>\n",
              "      <td>76000</td>\n",
              "      <td>0</td>\n",
              "    </tr>\n",
              "  </tbody>\n",
              "</table>\n",
              "</div>"
            ],
            "text/plain": [
              "    User ID  Gender  Age  EstimatedSalary  Purchased\n",
              "0  15624510    Male   19            19000          0\n",
              "1  15810944    Male   35            20000          0\n",
              "2  15668575  Female   26            43000          0\n",
              "3  15603246  Female   27            57000          0\n",
              "4  15804002    Male   19            76000          0"
            ]
          },
          "metadata": {
            "tags": []
          },
          "execution_count": 16
        }
      ]
    },
    {
      "cell_type": "markdown",
      "metadata": {
        "id": "-PaORAMhvAwF"
      },
      "source": [
        "**Yêu cầu với 2 thuộc tính:**\r\n",
        "+ Độ tuổi (Age)\r\n",
        "+ Mức lương ước đoán (Estimated Salary)<br>\r\n",
        "Dự đoán khách hàng sẽ mua hàng hay không?"
      ]
    },
    {
      "cell_type": "markdown",
      "metadata": {
        "id": "BeHYFsy_vHx9"
      },
      "source": [
        "# **Tiền sử lý dữ liệu**\r\n",
        "> Ở đây ta cần chọn thuộc tính Input (X) là **Age** và **Estimated Salary** và Output (Y) là **Purchased**."
      ]
    },
    {
      "cell_type": "code",
      "metadata": {
        "id": "m4f7-k-5vPZf"
      },
      "source": [
        "X = dataset.iloc[:, [2, 3]].values\r\n",
        "Y = dataset.iloc[:, -1].values"
      ],
      "execution_count": 17,
      "outputs": []
    },
    {
      "cell_type": "markdown",
      "metadata": {
        "id": "qCVdOI0tvujU"
      },
      "source": [
        "Với mục đích:\r\n",
        "+ Thuận tiện cho trực quan hóa kết quả sau khi huấn luyện.\r\n",
        "+ Tăng hiệu quả khi huấn luyện trên mô hình SVM.\r\n",
        "Ta chuẩn hóa dữ liệu về dạng có kỳ vọng bằng 0 và phương sai\r\n",
        "bằng 1.<br>\r\n",
        "Lớp **StandardScaler** trong module sklearn.preprocessing\r\n",
        "đã được xây dựng sẵn để **chuẩn hóa dữ liệu**"
      ]
    },
    {
      "cell_type": "code",
      "metadata": {
        "id": "jQ9t64AzvuO8"
      },
      "source": [
        "from sklearn.preprocessing import StandardScaler\r\n",
        "SC = StandardScaler()\r\n",
        "X = SC.fit_transform(X)"
      ],
      "execution_count": 18,
      "outputs": []
    },
    {
      "cell_type": "markdown",
      "metadata": {
        "id": "tJq3Px4dwAlm"
      },
      "source": [
        "> Chia tập dữ liệu thành 2 bộ train **(80%)** và test **(20%)**."
      ]
    },
    {
      "cell_type": "code",
      "metadata": {
        "id": "1ZLWQT1xwTU4"
      },
      "source": [
        "from sklearn.model_selection import train_test_split\r\n",
        "X_train, X_test, Y_train, Y_test = train_test_split(X, Y, train_size = 0.8, random_state = 0)"
      ],
      "execution_count": 19,
      "outputs": []
    },
    {
      "cell_type": "markdown",
      "metadata": {
        "id": "n2n_FLujwZgs"
      },
      "source": [
        "# **Trực quan hoá dữ liệu**"
      ]
    },
    {
      "cell_type": "code",
      "metadata": {
        "id": "1UplSnv5wmi1",
        "outputId": "e8def790-cb89-45f0-dbe6-3caea2a8c28d",
        "colab": {
          "base_uri": "https://localhost:8080/",
          "height": 267
        }
      },
      "source": [
        "from matplotlib.colors import ListedColormap\r\n",
        "import matplotlib.pyplot as plt\r\n",
        "def VisualizingDataset(X_, Y_):\r\n",
        "  X1 = X_[:, 0]\r\n",
        "  X2 = X_[:, 1]\r\n",
        "  for i, label in enumerate(np.unique(Y_)):\r\n",
        "    plt.scatter(X1[Y_ == label], X2[Y_ == label],color = ListedColormap((\"red\", \"green\"))(i))\r\n",
        "VisualizingDataset(X, Y)\r\n",
        "plt.show()"
      ],
      "execution_count": 20,
      "outputs": [
        {
          "output_type": "display_data",
          "data": {
            "image/png": "[encoded data removed]",
            "text/plain": [
              "<Figure size 432x288 with 1 Axes>"
            ]
          },
          "metadata": {
            "tags": [],
            "needs_background": "light"
          }
        }
      ]
    },
    {
      "cell_type": "markdown",
      "metadata": {
        "id": "Xw-ub6CxxMAK"
      },
      "source": [
        "# **Huấn luyện mô hình**\r\n",
        "> Sử dụng lớp SVC trong module sklearn.svm để huấn luyện mô\r\n",
        "hình.<br>\r\n",
        "> Ta sẽ sử dụng kernel Radian Basic Function cho Kernel SVM.\r\n",
        "Kernel này được thiết lập với tham số kernel =\r\n",
        "\"rbf\".\r\n"
      ]
    },
    {
      "cell_type": "code",
      "metadata": {
        "id": "A0WH242fxU38",
        "outputId": "bff7ded1-cd76-48f7-a047-32cb10b4f346",
        "colab": {
          "base_uri": "https://localhost:8080/"
        }
      },
      "source": [
        "from sklearn.svm import SVC\r\n",
        "classifier = SVC(kernel =\"rbf\")\r\n",
        "classifier.fit(X_train, Y_train)"
      ],
      "execution_count": 22,
      "outputs": [
        {
          "output_type": "execute_result",
          "data": {
            "text/plain": [
              "SVC(C=1.0, break_ties=False, cache_size=200, class_weight=None, coef0=0.0,\n",
              "    decision_function_shape='ovr', degree=3, gamma='scale', kernel='rbf',\n",
              "    max_iter=-1, probability=False, random_state=None, shrinking=True,\n",
              "    tol=0.001, verbose=False)"
            ]
          },
          "metadata": {
            "tags": []
          },
          "execution_count": 22
        }
      ]
    },
    {
      "cell_type": "markdown",
      "metadata": {
        "id": "mwI-ghcmxZWQ"
      },
      "source": [
        "# **Trực quan hoá kết quả mô hình**\r\n",
        "> Ta tạo một confusion matrix. Đây là một ma trận có kích thước là\r\n",
        "𝑝 × 𝑝 với 𝑝 là số phân lớp trong bài toán đang xét, ở đây là 2.<br>\r\n",
        "> Phần tử ở dòng thứ 𝑖, cột thứ 𝑗 của confusion matrix biểu thị số\r\n",
        "lượng phần tử có loại là 𝑖 và được phân vào loại 𝑗.<br>\r\n",
        "> Hàm confusion_matrix trong module sklearn.metrics sẽ hỗ\r\n",
        "trợ ta xây dựng confusion matrix."
      ]
    },
    {
      "cell_type": "code",
      "metadata": {
        "id": "EPxLjYqGxlS7",
        "outputId": "738a1233-3534-405b-87bb-c384fb543d52",
        "colab": {
          "base_uri": "https://localhost:8080/"
        }
      },
      "source": [
        "from sklearn.metrics import confusion_matrix\r\n",
        "cm = confusion_matrix(Y_train, classifier.predict(X_train))\r\n",
        "print(cm)"
      ],
      "execution_count": 24,
      "outputs": [
        {
          "output_type": "stream",
          "text": [
            "[[178  21]\n",
            " [ 10 111]]\n"
          ],
          "name": "stdout"
        }
      ]
    },
    {
      "cell_type": "code",
      "metadata": {
        "id": "4Q43dDujxp2C",
        "outputId": "ff4c8c5d-d56b-4d08-cdb0-97359d2ab706",
        "colab": {
          "base_uri": "https://localhost:8080/",
          "height": 265
        }
      },
      "source": [
        "def VisualizingResult(model, X_):\r\n",
        "  X1 = X_[:, 0]\r\n",
        "  X2 = X_[:, 1]\r\n",
        "  X1_range = np.arange(start= X1.min()-1, stop= X1.max()+1, step =0.01)\r\n",
        "  X2_range = np.arange(start= X2.min()-1, stop= X2.max()+1, step =0.01)\r\n",
        "  X1_matrix, X2_matrix = np.meshgrid(X1_range, X2_range)\r\n",
        "  X_grid= np.array([X1_matrix.ravel(), X2_matrix.ravel()]).T\r\n",
        "  Y_grid= model.predict(X_grid).reshape(X1_matrix.shape)\r\n",
        "  plt.contourf(X1_matrix, X2_matrix, Y_grid, alpha = 0.5,cmap = ListedColormap((\"red\",\"green\")))\r\n",
        "VisualizingResult(classifier, X_train)\r\n",
        "VisualizingDataset(X_train, Y_train)\r\n",
        "plt.show()"
      ],
      "execution_count": 26,
      "outputs": [
        {
          "output_type": "display_data",
          "data": {
            "image/png": "[encoded data removed]",
            "text/plain": [
              "<Figure size 432x288 with 1 Axes>"
            ]
          },
          "metadata": {
            "tags": [],
            "needs_background": "light"
          }
        }
      ]
    },
    {
      "cell_type": "markdown",
      "metadata": {
        "id": "bIkLRVE7yOfE"
      },
      "source": [
        "# **Kiểm tra kết quả trên tập test**\r\n"
      ]
    },
    {
      "cell_type": "code",
      "metadata": {
        "id": "DItO7WyyyUH6",
        "outputId": "b51ddb73-8b44-4a3a-92ac-98ffcdff1980",
        "colab": {
          "base_uri": "https://localhost:8080/"
        }
      },
      "source": [
        "cm = confusion_matrix(Y_test, classifier.predict(X_test))\r\n",
        "print(cm)"
      ],
      "execution_count": 27,
      "outputs": [
        {
          "output_type": "stream",
          "text": [
            "[[55  3]\n",
            " [ 1 21]]\n"
          ],
          "name": "stdout"
        }
      ]
    },
    {
      "cell_type": "code",
      "metadata": {
        "id": "ZzpaCzi_yv72",
        "outputId": "67b123c1-7c8c-4915-f051-fdb80140c75c",
        "colab": {
          "base_uri": "https://localhost:8080/"
        }
      },
      "source": [
        "def compare(i_example):\r\n",
        "  x = X_test[i_example : i_example + 1]\r\n",
        "  y = Y_test[i_example]\r\n",
        "  y_pred = classifier.predict(x)\r\n",
        "  x_inv = SC.inverse_transform(x)\r\n",
        "  print(x_inv, y, y_pred)\r\n",
        "for i in range(7, 12):\r\n",
        "  compare(i)"
      ],
      "execution_count": 29,
      "outputs": [
        {
          "output_type": "stream",
          "text": [
            "[[3.60e+01 1.44e+05]] 1 [1]\n",
            "[[1.8e+01 6.8e+04]] 0 [0]\n",
            "[[   47. 43000.]] 0 [1]\n",
            "[[3.0e+01 4.9e+04]] 0 [0]\n",
            "[[2.8e+01 5.5e+04]] 0 [0]\n"
          ],
          "name": "stdout"
        }
      ]
    }
  ]
}